{
  "metadata": {
    "kernelspec": {
      "name": "python",
      "display_name": "Python (Pyodide)",
      "language": "python"
    },
    "language_info": {
      "codemirror_mode": {
        "name": "python",
        "version": 3
      },
      "file_extension": ".py",
      "mimetype": "text/x-python",
      "name": "python",
      "nbconvert_exporter": "python",
      "pygments_lexer": "ipython3",
      "version": "3.8"
    }
  },
  "nbformat_minor": 4,
  "nbformat": 4,
  "cells": [
    {
      "cell_type": "code",
      "source": "from sympy import *\nfrom sympy.vector import CoordSys3D\nfrom sympy.matrices import Matrix\n\ninit_printing()\n# ======= VARIABLES ============\nxb, zb, d, tba = symbols('xb zb d tba', real=True, positive=True)\nyb = Symbol('yb', real=True, positive=False)\n# ==============================\n\n# ==== CONSTANTES ======\nw = 0.5*9.81 + 0.125*9.81\n# charge qui change\ntbd = 0.5*9.81\n# ======================",
      "metadata": {
        "tags": [],
        "editable": true,
        "slideshow": {
          "slide_type": ""
        },
        "trusted": true
      },
      "outputs": [],
      "execution_count": 2
    },
    {
      "cell_type": "code",
      "source": "# ================================= Équations ========================================\neq_rba = Eq(0.6, sqrt((0.8-xb)**2 + (0.05-yb)**2 + (0.24-zb)**2))\neq_rob = Eq(0.8, sqrt(xb**2 + yb**2 + zb**2))\neq_d = Eq(d, sqrt(xb**2 + yb**2 + (zb-1)**2))\n\neq_moy = Eq(0, ((-0.24 * tba*(xb-3.33333333333*zb))/sqrt(xb**2-1.6*xb+yb**2-0.1*yb+zb**2-0.48*zb+0.7001))-((tbd*xb)/sqrt(xb**2+yb**2+(zb-1)**2 )))\neq_moz = Eq(0, ((0.05*tba*(xb-16*yb))/sqrt(xb**2-1.6*xb+yb**2-0.1*yb+zb**2-0.48*zb+0.7001))-((0.5*xb*w)/sqrt(xb**2+yb**2+zb**2 )))\n# =======================================================================================",
      "metadata": {
        "trusted": true
      },
      "outputs": [],
      "execution_count": 3
    },
    {
      "cell_type": "code",
      "source": "system_eq = nsolve([eq_rba, eq_rob, eq_d, eq_moy, eq_moz], [xb, yb, zb, tba, d], [0.1,-0.1,0.1,0.1,1], dict=True)\n\n# ======= Calculs vectoriel pour fins de vérification ==================== \n# déclaration d'espace vectoriel\nN = CoordSys3D('N')\n\n# vecteur position OB\nv_rob = system_eq[0][xb]*N.i + system_eq[0][yb]*N.j + system_eq[0][zb]*N.k\n# grandeur du vecteur position OB\nnorm_rob = v_rob.magnitude()\n# calcul du vecteur position (point) C\nv_roc = (v_rob/norm_rob)*0.5\n# =====================================================================\nsystem_eq",
      "metadata": {
        "trusted": true
      },
      "outputs": [
        {
          "execution_count": 4,
          "output_type": "execute_result",
          "data": {
            "text/plain": "[{d: 0.60465508500167, tba: 5.21816590054231, xb: 0.434668462871809, yb: -0.21\n2236753584852, zb: 0.637196114090817}]",
            "text/latex": "$\\displaystyle \\left[ \\left\\{ d : 0.60465508500167, \\  tba : 5.21816590054231, \\  xb : 0.434668462871809, \\  yb : -0.212236753584852, \\  zb : 0.637196114090817\\right\\}\\right]$"
          },
          "metadata": {}
        }
      ],
      "execution_count": 4
    },
    {
      "cell_type": "markdown",
      "source": "## Vecteur OB :",
      "metadata": {}
    },
    {
      "cell_type": "code",
      "source": "v_rob",
      "metadata": {
        "trusted": true
      },
      "outputs": [
        {
          "execution_count": 5,
          "output_type": "execute_result",
          "data": {
            "text/plain": "(0.434668462871809) i_N + (-0.212236753584852) j_N + (0.637196114090817) k_N",
            "text/latex": "$\\displaystyle \\left(0.434668462871809\\right)\\mathbf{\\hat{i}_{N}} + \\left(-0.212236753584852\\right)\\mathbf{\\hat{j}_{N}} + \\left(0.637196114090817\\right)\\mathbf{\\hat{k}_{N}}$"
          },
          "metadata": {}
        }
      ],
      "execution_count": 5
    },
    {
      "cell_type": "markdown",
      "source": "## Vecteur OC :",
      "metadata": {}
    },
    {
      "cell_type": "code",
      "source": "v_roc",
      "metadata": {
        "trusted": true
      },
      "outputs": [
        {
          "execution_count": 6,
          "output_type": "execute_result",
          "data": {
            "text/plain": "(0.271667789294877) i_N + (-0.132647970990531) j_N + (0.398247571306756) k_N",
            "text/latex": "$\\displaystyle \\left(0.271667789294877\\right)\\mathbf{\\hat{i}_{N}} + \\left(-0.132647970990531\\right)\\mathbf{\\hat{j}_{N}} + \\left(0.398247571306756\\right)\\mathbf{\\hat{k}_{N}}$"
          },
          "metadata": {}
        }
      ],
      "execution_count": 6
    },
    {
      "cell_type": "markdown",
      "source": "# Avec contrepoids de 700g (0.7 kg)",
      "metadata": {}
    },
    {
      "cell_type": "code",
      "source": "tbd = 0.7*9.81\n# On recalcule le système avec la nouvelle valeur du contrepoids\n# ================================= Équations ========================================\neq_rba = Eq(0.6, sqrt((0.8-xb)**2 + (0.05-yb)**2 + (0.24-zb)**2))\neq_rob = Eq(0.8, sqrt(xb**2 + yb**2 + zb**2))\neq_d = Eq(d, sqrt(xb**2 + yb**2 + (zb-1)**2))\n\neq_moy = Eq(0, ((-0.24 * tba*(xb-3.33333333333*zb))/sqrt(xb**2-1.6*xb+yb**2-0.1*yb+zb**2-0.48*zb+0.7001))-((tbd*xb)/sqrt(xb**2+yb**2+(zb-1)**2 )))\neq_moz = Eq(0, ((0.05*tba*(xb-16*yb))/sqrt(xb**2-1.6*xb+yb**2-0.1*yb+zb**2-0.48*zb+0.7001))-((0.5*xb*w)/sqrt(xb**2+yb**2+zb**2 )))\n# =======================================================================================\nsystem_eq = nsolve([eq_rba, eq_rob, eq_d, eq_moy, eq_moz], [xb, yb, zb, tba, d], [0.1,-0.1,0.1,3,0.5], dict=True)\n\n# ======= Calculs vectoriel pour fins de vérification ====================\n# vecteur position OB\nv_rob = system_eq[0][xb]*N.i + system_eq[0][yb]*N.j + system_eq[0][zb]*N.k\n# grandeur du vecteur position OB\nnorm_rob = v_rob.magnitude()\n# calcul du vecteur position (point) C\nv_roc = (v_rob/norm_rob)*0.5\n# =====================================================================\nsystem_eq",
      "metadata": {
        "trusted": true
      },
      "outputs": [
        {
          "execution_count": 7,
          "output_type": "execute_result",
          "data": {
            "text/plain": "[{d: 0.55688239947814, tba: 7.24733651951078, xb: 0.421888783011374, yb: -0.14\n0937311745508, zb: 0.664940996575735}]",
            "text/latex": "$\\displaystyle \\left[ \\left\\{ d : 0.55688239947814, \\  tba : 7.24733651951078, \\  xb : 0.421888783011374, \\  yb : -0.140937311745508, \\  zb : 0.664940996575735\\right\\}\\right]$"
          },
          "metadata": {}
        }
      ],
      "execution_count": 7
    },
    {
      "cell_type": "markdown",
      "source": "## Vecteur OB (700g)",
      "metadata": {}
    },
    {
      "cell_type": "code",
      "source": "v_rob",
      "metadata": {
        "trusted": true
      },
      "outputs": [
        {
          "execution_count": 8,
          "output_type": "execute_result",
          "data": {
            "text/plain": "(0.421888783011374) i_N + (-0.140937311745508) j_N + (0.664940996575735) k_N",
            "text/latex": "$\\displaystyle \\left(0.421888783011374\\right)\\mathbf{\\hat{i}_{N}} + \\left(-0.140937311745508\\right)\\mathbf{\\hat{j}_{N}} + \\left(0.664940996575735\\right)\\mathbf{\\hat{k}_{N}}$"
          },
          "metadata": {}
        }
      ],
      "execution_count": 8
    },
    {
      "cell_type": "markdown",
      "source": "## Vecteur OC (700g)",
      "metadata": {}
    },
    {
      "cell_type": "code",
      "source": "v_roc",
      "metadata": {
        "trusted": true
      },
      "outputs": [
        {
          "execution_count": 9,
          "output_type": "execute_result",
          "data": {
            "text/plain": "(0.263680489382109) i_N + (-0.0880858198409426) j_N + (0.415588122859834) k_N",
            "text/latex": "$\\displaystyle \\left(0.263680489382109\\right)\\mathbf{\\hat{i}_{N}} + \\left(-0.0880858198409426\\right)\\mathbf{\\hat{j}_{N}} + \\left(0.415588122859834\\right)\\mathbf{\\hat{k}_{N}}$"
          },
          "metadata": {}
        }
      ],
      "execution_count": 9
    },
    {
      "cell_type": "markdown",
      "source": "# Avec contrepoids de 900g (0.9kg)",
      "metadata": {}
    },
    {
      "cell_type": "code",
      "source": "tbd = 0.9*9.81\n# On recalcule le système avec la nouvelle valeur du contrepoids\n# ================================= Équations ========================================\neq_rba = Eq(0.6, sqrt((0.8-xb)**2 + (0.05-yb)**2 + (0.24-zb)**2))\neq_rob = Eq(0.8, sqrt(xb**2 + yb**2 + zb**2))\neq_d = Eq(d, sqrt(xb**2 + yb**2 + (zb-1)**2))\n\neq_moy = Eq(0, ((-0.24 * tba*(xb-3.33333333333*zb))/sqrt(xb**2-1.6*xb+yb**2-0.1*yb+zb**2-0.48*zb+0.7001))-((tbd*xb)/sqrt(xb**2+yb**2+(zb-1)**2 )))\neq_moz = Eq(0, ((0.05*tba*(xb-16*yb))/sqrt(xb**2-1.6*xb+yb**2-0.1*yb+zb**2-0.48*zb+0.7001))-((0.5*xb*w)/sqrt(xb**2+yb**2+zb**2 )))\n# =======================================================================================\nsystem_eq = nsolve([eq_rba, eq_rob, eq_d, eq_moy, eq_moz], [xb, yb, zb, tba, d], [0.1,-0.1,0.1,3,0.5], dict=True)\n\n# ======= Calculs vectoriel pour fins de vérification ====================\n# vecteur position OB\nv_rob = system_eq[0][xb]*N.i + system_eq[0][yb]*N.j + system_eq[0][zb]*N.k\n# grandeur du vecteur position OB\nnorm_rob = v_rob.magnitude()\n# calcul du vecteur position (point) C\nv_roc = (v_rob/norm_rob)*0.5\n# =====================================================================\nsystem_eq",
      "metadata": {
        "trusted": true
      },
      "outputs": [
        {
          "execution_count": 10,
          "output_type": "execute_result",
          "data": {
            "text/plain": "[{d: 0.537790179961303, tba: 9.31261924921195, xb: 0.416349636219176, yb: -0.1\n02470313116065, zb: 0.675390861168594}]",
            "text/latex": "$\\displaystyle \\left[ \\left\\{ d : 0.537790179961303, \\  tba : 9.31261924921195, \\  xb : 0.416349636219176, \\  yb : -0.102470313116065, \\  zb : 0.675390861168594\\right\\}\\right]$"
          },
          "metadata": {}
        }
      ],
      "execution_count": 10
    },
    {
      "cell_type": "markdown",
      "source": "## Vecteur OB (900g) : ",
      "metadata": {}
    },
    {
      "cell_type": "code",
      "source": "v_rob",
      "metadata": {
        "trusted": true
      },
      "outputs": [
        {
          "execution_count": 11,
          "output_type": "execute_result",
          "data": {
            "text/plain": "(0.416349636219176) i_N + (-0.102470313116065) j_N + (0.675390861168594) k_N",
            "text/latex": "$\\displaystyle \\left(0.416349636219176\\right)\\mathbf{\\hat{i}_{N}} + \\left(-0.102470313116065\\right)\\mathbf{\\hat{j}_{N}} + \\left(0.675390861168594\\right)\\mathbf{\\hat{k}_{N}}$"
          },
          "metadata": {}
        }
      ],
      "execution_count": 11
    },
    {
      "cell_type": "markdown",
      "source": "## Vecteur OC (900g) :",
      "metadata": {}
    },
    {
      "cell_type": "code",
      "source": "v_roc",
      "metadata": {
        "trusted": true
      },
      "outputs": [
        {
          "execution_count": 12,
          "output_type": "execute_result",
          "data": {
            "text/plain": "(0.260218522636985) i_N + (-0.0640439456975405) j_N + (0.422119288230372) k_N",
            "text/latex": "$\\displaystyle \\left(0.260218522636985\\right)\\mathbf{\\hat{i}_{N}} + \\left(-0.0640439456975405\\right)\\mathbf{\\hat{j}_{N}} + \\left(0.422119288230372\\right)\\mathbf{\\hat{k}_{N}}$"
          },
          "metadata": {}
        }
      ],
      "execution_count": 12
    }
  ]
}